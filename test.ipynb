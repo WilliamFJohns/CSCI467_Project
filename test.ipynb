{
 "cells": [
  {
   "cell_type": "code",
   "execution_count": null,
   "metadata": {},
   "outputs": [],
   "source": [
    "\n",
    "sorted_test = test.sort_values(by=\"revenue\", ascending=False)\n",
    "label = gmm.predict(sorted_test)\n",
    "means = gmm.means_\n",
    "preds = means[label]\n",
    "pred=preds[:,-1]\n",
    "test_mse = mean_absolute_error(sorted_test['revenue'][0:5], pred[0:5])\n",
    "print(f\"MSE For Top 5 Revenues: {test_mse}\")\n",
    "\n",
    "mse = mean_squared_error(sorted_test['revenue'][0:5], pred[0:5])\n",
    "r2 = r2_score(sorted_test['revenue'][0:5], pred[0:5])\n",
    "sorted_test = test.sort_values(by=\"revenue\", ascending=True)\n",
    "label = gmm.predict(sorted_test)\n",
    "means = gmm.means_\n",
    "preds = means[label]\n",
    "pred=preds[:,-1]\n",
    "test_mse = mean_absolute_error(sorted_test['revenue'][0:5], pred[0:5])\n",
    "mse = mean_squared_error(sorted_test['revenue'][0:5], pred[0:5])\n",
    "r2 = r2_score(sorted_test['revenue'][0:5], pred[0:5])\n",
    "print(f\"MSE For Bottom 5 Revenues: {test_mse}\")\n"
   ]
  }
 ],
 "metadata": {
  "language_info": {
   "name": "python"
  }
 },
 "nbformat": 4,
 "nbformat_minor": 2
}
