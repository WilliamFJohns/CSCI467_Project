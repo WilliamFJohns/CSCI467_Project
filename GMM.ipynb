{
 "cells": [
  {
   "cell_type": "code",
   "execution_count": 32,
   "metadata": {},
   "outputs": [],
   "source": [
    "import pandas as pd\n",
    "from sklearn.preprocessing import LabelEncoder\n",
    "from sklearn.model_selection import train_test_split\n",
    "from sklearn.linear_model import LinearRegression\n",
    "from sklearn.neighbors import KNeighborsRegressor\n",
    "from sklearn.metrics import mean_absolute_error, mean_squared_error, r2_score\n",
    "from sklearn.preprocessing import StandardScaler\n",
    "import numpy as np\n",
    "from sklearn.mixture import GaussianMixture\n",
    "from sklearn.metrics import accuracy_score"
   ]
  },
  {
   "cell_type": "code",
   "execution_count": 33,
   "metadata": {},
   "outputs": [],
   "source": [
    "# Reads data from csv file\n",
    "label_encoder = LabelEncoder()\n",
    "data = pd.read_csv('data/market_analysis_2019.csv', delimiter=';')\n",
    "\n",
    "data['month'] = pd.to_datetime(data['month'], format='%Y-%m')\n",
    "data['revenue'] = data['revenue'].str.replace(',', '.').astype(float)\n",
    "\n",
    "# Assuming 'guests' column might also contain '15+' or similar strings\n",
    "data['guests'] = data['guests'].replace('15+', 15).astype(float)\n",
    "\n",
    "# Encode 'city' column\n",
    "data['city_encoded'] = label_encoder.fit_transform(data['city'])\n",
    "\n",
    "# Calculate MonthSin and MonthCos\n",
    "data['MonthSin'] = np.sin(2 * np.pi * data['month'].dt.month / 12)\n",
    "data['MonthCos'] = np.cos(2 * np.pi * data['month'].dt.month / 12)\n",
    "\n",
    "# Select features and target before removing NaN values\n",
    "cleaned_data = data[['bedrooms', 'bathrooms', 'guests', 'city_encoded', 'MonthSin', 'MonthCos']]\n",
    "actual_rev = data['revenue'].copy()\n",
    "\n",
    "# Remove rows with NaN values from both features and target\n",
    "combined = cleaned_data.copy()\n",
    "combined['revenue'] = actual_rev\n",
    "combined_clean = combined.dropna()\n",
    "\n",
    "# Separate features and target again after cleaning\n",
    "cleaned_data = combined_clean[['bedrooms', 'bathrooms', 'guests', 'city_encoded', 'MonthSin', 'MonthCos']]\n",
    "actual_rev = combined_clean['revenue']\n",
    "combined_clean = combined_clean[combined_clean['revenue'] != 0]\n",
    "split_index = int(len(combined_clean) * 0.8)\n",
    "train = combined_clean.iloc[:split_index]\n",
    "test = combined_clean.iloc[split_index:]\n",
    "# Splitting the dataset into training and testing sets\n",
    "X_train, X_test, y_train, y_test = train_test_split(cleaned_data, actual_rev, test_size=0.2, random_state=42)"
   ]
  },
  {
   "cell_type": "code",
   "execution_count": 34,
   "metadata": {},
   "outputs": [
    {
     "name": "stdout",
     "output_type": "stream",
     "text": [
      "Mean Absolute Error: 2800.576927073185\n",
      "Mean Squared Error: 18655650.20528432\n",
      "R-squared: 0.2684389834391159\n"
     ]
    }
   ],
   "source": [
    "# Now, fit the model\n",
    "model = KNeighborsRegressor(n_neighbors=15)\n",
    "scaler = StandardScaler()\n",
    "X_train_scaled = scaler.fit_transform(X_train)\n",
    "X_test_scaled = scaler.transform(X_test)\n",
    "model.fit(X_train, y_train)\n",
    "\n",
    "# Making predictions and evaluating the model\n",
    "y_pred = model.predict(X_test)\n",
    "mae = mean_absolute_error(y_test, y_pred)\n",
    "mse = mean_squared_error(y_test, y_pred)\n",
    "r2 = r2_score(y_test, y_pred)\n",
    "\n",
    "print(f\"Mean Absolute Error: {mae}\")\n",
    "print(f\"Mean Squared Error: {mse}\")\n",
    "print(f\"R-squared: {r2}\")"
   ]
  },
  {
   "cell_type": "code",
   "execution_count": 35,
   "metadata": {},
   "outputs": [
    {
     "name": "stdout",
     "output_type": "stream",
     "text": [
      "Mean Absolute Error: 2515.424352057906\n",
      "Mean Squared Error: 18655650.20528432\n",
      "R-squared: 0.2684389834391159\n"
     ]
    }
   ],
   "source": [
    "gmm = GaussianMixture(n_components=10, covariance_type='full')\n",
    "scaler = StandardScaler()\n",
    "train_scaled = scaler.fit_transform(train)\n",
    "test_scaled = scaler.transform(test)\n",
    "gmm.fit(train)\n",
    "label = gmm.predict(test)\n",
    "means = gmm.means_\n",
    "preds = means[label]\n",
    "pred = preds[:,-1]\n",
    "mae = mean_absolute_error(test['revenue'], pred)\n",
    "mse = mean_squared_error(test['revenue'], pred)\n",
    "r2 = r2_score(test['revenue'], pred)\n",
    "\n",
    "print(f\"Mean Absolute Error: {mae}\")\n",
    "print(f\"Mean Squared Error: {mse}\")\n",
    "print(f\"R-squared: {r2}\")\n"
   ]
  }
 ],
 "metadata": {
  "kernelspec": {
   "display_name": "MLClasswork",
   "language": "python",
   "name": "python3"
  },
  "language_info": {
   "codemirror_mode": {
    "name": "ipython",
    "version": 3
   },
   "file_extension": ".py",
   "mimetype": "text/x-python",
   "name": "python",
   "nbconvert_exporter": "python",
   "pygments_lexer": "ipython3",
   "version": "3.11.7"
  }
 },
 "nbformat": 4,
 "nbformat_minor": 2
}
